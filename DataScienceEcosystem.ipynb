{
 "cells": [
  {
   "cell_type": "markdown",
   "id": "604590de-140b-4771-9b1a-7d705d69168d",
   "metadata": {},
   "source": [
    "Exercise 2: Create markdown cell with title of the notebook\n",
    "# Data Science Tools and Ecosystem"
   ]
  },
  {
   "cell_type": "markdown",
   "id": "8459abc8-56c8-456d-b624-5a6611ec7852",
   "metadata": {},
   "source": [
    "**Exercise 3 - Create a markdown cell for an introduction**\n",
    "\n",
    "*In this notebook, Data Science Tools and Ecosystems are summarized.* "
   ]
  },
  {
   "cell_type": "markdown",
   "id": "36cb9c2f-8c78-48ac-87ec-a0604f57a867",
   "metadata": {},
   "source": [
    "Exercise 10 - Insert a markdown cell to list Objectives\n",
    "\n",
    "**Objectives:**\n",
    "+ List popular languages for Data Science\n",
    "+ List most commonly used Data Science libraries\n",
    "+ list open source tools used in Data Science\n",
    "+ examples of basic arithmetic operations in Python"
   ]
  },
  {
   "cell_type": "markdown",
   "id": "9b85a7c6-0510-4a3a-9813-75bef0c13412",
   "metadata": {},
   "source": [
    "**Exercise 4 - Create a markdown cell to list data science languages**\n",
    "\n",
    "*Some of the popular languages that Data scientists use are:*\n",
    "1. Python\n",
    "2. RExercise 10 - Insert a markdown cell to list Objectives\n",
    "3. SQL\n",
    "4. Scala\n",
    "5. Java\n",
    "6. C++\n",
    "7. Julia"
   ]
  },
  {
   "cell_type": "markdown",
   "id": "949fd1b6-e7ce-4fce-a7ec-0e554233112c",
   "metadata": {},
   "source": [
    "**Exercise 5 - Create a markdown cell to list data science libraries**\n",
    "\n",
    "*Some of the most commonly used libraries used by Data Scientists include:*\n",
    "\n",
    "Python libraries for Data Science:\n",
    "1. Pandas (Data structures and tools)\n",
    "2. NumPy (arrays and matricies)\n",
    "3. Matplotlib (Plots and graphs, most popular)\n",
    "4. Seaborn (PLots: Heat map, Time series, Violin plots)\n",
    "5. Scikit-learn (for machine learning)\n",
    "6. Keras (Deep learning, Neural Networks)\n",
    "7. Tensor Flow (Deep learning)\n",
    "8. PyTorch (Deep learning)\n",
    "\n",
    "R libraries for Data Science:\n",
    "1. ggplots (for data visuallization)"
   ]
  },
  {
   "cell_type": "markdown",
   "id": "09db5161-0ad1-4635-99b7-ad1c94b39606",
   "metadata": {},
   "source": [
    "**Exercise 6 - Create a markdown cell with a table of Data Science tools**\n",
    "\n",
    "|Data Science Tools|\n",
    "-------------------\n",
    "|Jupyter Notebooks|\n",
    "|RStudio|\n",
    "|Visual Studio Code|"
   ]
  },
  {
   "cell_type": "markdown",
   "id": "82bb544b-5d32-4432-b062-13a7d86fd267",
   "metadata": {},
   "source": [
    "Exercise 7 - Create a markdown cell introducing arithmetic expression examples\n",
    "\n",
    "### Below are a few examples of evaluating arithmetic expressions in Python"
   ]
  },
  {
   "cell_type": "code",
   "execution_count": 4,
   "id": "0bfa08d8-b257-45e9-b3ce-fe07ca12016d",
   "metadata": {
    "tags": []
   },
   "outputs": [
    {
     "data": {
      "text/plain": [
       "17"
      ]
     },
     "execution_count": 4,
     "metadata": {},
     "output_type": "execute_result"
    }
   ],
   "source": [
    "# Exercise 8 - Create a code cell to multiply and add numbers\n",
    "\n",
    "# This a simple arithmetic expression to mutiply then add integers\n",
    "(3*4)+5"
   ]
  },
  {
   "cell_type": "code",
   "execution_count": 3,
   "id": "53c16ed6-8823-4dc1-8256-739894e765ab",
   "metadata": {
    "tags": []
   },
   "outputs": [
    {
     "data": {
      "text/plain": [
       "3.3333333333333335"
      ]
     },
     "execution_count": 3,
     "metadata": {},
     "output_type": "execute_result"
    }
   ],
   "source": [
    "# Exercise 9 - Create a code cell to convert minutes to hours\n",
    "\n",
    "# This will convert 200 minutes to hours by diving by 60\n",
    "200/60"
   ]
  },
  {
   "cell_type": "markdown",
   "id": "8db8520c-50d2-448f-ae82-463c85e00d98",
   "metadata": {},
   "source": [
    "## Auther\n",
    "Ali"
   ]
  },
  {
   "cell_type": "code",
   "execution_count": null,
   "id": "3b6c9053-99a0-4c56-9ffe-b9ac8ae2bbd4",
   "metadata": {},
   "outputs": [],
   "source": []
  }
 ],
 "metadata": {
  "kernelspec": {
   "display_name": "Python",
   "language": "python",
   "name": "conda-env-python-py"
  },
  "language_info": {
   "codemirror_mode": {
    "name": "ipython",
    "version": 3
   },
   "file_extension": ".py",
   "mimetype": "text/x-python",
   "name": "python",
   "nbconvert_exporter": "python",
   "pygments_lexer": "ipython3",
   "version": "3.7.12"
  }
 },
 "nbformat": 4,
 "nbformat_minor": 5
}
